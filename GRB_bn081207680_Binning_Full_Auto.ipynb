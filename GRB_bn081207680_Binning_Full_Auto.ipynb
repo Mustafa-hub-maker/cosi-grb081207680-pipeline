{
 "cells": [
  {
   "cell_type": "markdown",
   "id": "361c7771",
   "metadata": {},
   "source": [
    "# GRB Binning Pipeline for `bn081207680`\n",
    "This notebook automatically downloads required data from Wasabi, unzips the response file, writes `inputs.yaml`, and bins the GRB data using `cosipy`.\n"
   ]
  },
  {
   "cell_type": "code",
   "execution_count": 14,
   "id": "bb379a44",
   "metadata": {},
   "outputs": [
    {
     "name": "stdout",
     "output_type": "stream",
     "text": [
      "All libraries imported.\n"
     ]
    }
   ],
   "source": [
    "import warnings\n",
    "warnings.filterwarnings(\"ignore\")\n",
    "\n",
    "import os\n",
    "import subprocess\n",
    "import yaml\n",
    "from pathlib import Path\n",
    "import zipfile\n",
    "\n",
    "from cosipy.util import fetch_wasabi_file\n",
    "from cosipy.response import FullDetectorResponse\n",
    "from cosipy import BinnedData\n",
    "print(\"All libraries imported.\")"
   ]
  },
  {
   "cell_type": "code",
   "execution_count": 15,
   "id": "83490f2e",
   "metadata": {},
   "outputs": [
    {
     "name": "stdout",
     "output_type": "stream",
     "text": [
      "Data directory: /data01/grb\n"
     ]
    }
   ],
   "source": [
    "data_folder = Path(\"/data01/grb\")\n",
    "data_folder.mkdir(parents=True, exist_ok=True)\n",
    "print(f\"Data directory: {data_folder}\")"
   ]
  },
  {
   "cell_type": "code",
   "execution_count": 16,
   "id": "eb7a1060",
   "metadata": {},
   "outputs": [],
   "source": [
    "wasabi = {\n",
    "    \"background\":  \"Backgrounds/Ge/Total_BG_with_SAAcomponent_3months_unbinned_data_filtered_with_SAAcut.fits.gz\",\n",
    "    \"response\":    \"Responses/ResponseContinuum.o3.e100_10000.b10log.s10396905069491.m2284.filtered.nonsparse.binnedimaging.imagingresponse_nside8.area.good_chunks.h5.zip\",\n",
    "    \"orientation\": \"Orientation/DC3_final_530km_3_month_with_slew_1sbins_GalacticEarth_SAA.ori\",\n",
    "    \"source\":      \"Sources/GRB_bn081207680_3months_unbinned_data_filtered_with_SAAcut.fits.gz\",\n",
    "}\n",
    "\n",
    "paths = {key: data_folder / Path(val).name for key, val in wasabi.items()}"
   ]
  },
  {
   "cell_type": "markdown",
   "id": "49958018-d392-4876-812c-7a7545bba8ef",
   "metadata": {},
   "source": [
    "## Wasabi File Dictionary\n",
    "\n",
    "The `wasabi` dictionary specifies relative paths to required files in the COSI Wasabi S3 storage.\n",
    "\n",
    "| Key         | Description                                                             |\n",
    "|-------------|-------------------------------------------------------------------------|\n",
    "| `background`| Background FITS file (SAA-filtered)                                     |\n",
    "| `response`  | Zipped detector response matrix (.h5)                                   |\n",
    "| `orientation`| Orientation file for satellite pointing                                |\n",
    "| `source`    | GRB photon list FITS file (SAA-filtered, unbinned)                      |\n",
    "\n",
    "These paths are relative to the internal COSI Wasabi bucket structure.\n",
    "\n",
    "\n"
   ]
  },
  {
   "cell_type": "code",
   "execution_count": 17,
   "id": "1516e102",
   "metadata": {},
   "outputs": [
    {
     "name": "stdout",
     "output_type": "stream",
     "text": [
      "✅ [Ready] background\n",
      "✅ [Ready] response\n",
      "✅ [Ready] orientation\n",
      "✅ [Ready] source\n"
     ]
    }
   ],
   "source": [
    "for key, remote in wasabi.items():\n",
    "    out = paths[key]\n",
    "    ready = out.with_suffix('') if out.suffix == \".gz\" else out\n",
    "    if not ready.exists():\n",
    "        print(f\"⬇️ Downloading {key} from Wasabi...\")\n",
    "        fetch_wasabi_file(f\"COSI-SMEX/DC3/Data/{remote}\", output=out)\n",
    "        if out.suffix == \".gz\":\n",
    "            subprocess.run([\"gunzip\", \"-f\", str(out)], check=True)\n",
    "        elif out.suffix == \".zip\":\n",
    "            print(f\"📦 Unzipping {out.name}...\")\n",
    "            with zipfile.ZipFile(out, 'r') as zip_ref:\n",
    "                zip_ref.extractall(data_folder)\n",
    "            print(\"✅ Unzip complete\")\n",
    "    else:\n",
    "        print(f\"✅ [Ready] {key}\")"
   ]
  },
  {
   "cell_type": "markdown",
   "id": "a5e1ed60-ced9-4d7e-88d5-4db132fbe925",
   "metadata": {},
   "source": [
    "## Step 4: Download and Extract Files\n",
    "\n",
    "This loop downloads and extracts each required file from Wasabi into `data_folder`, only if not already present.\n",
    "\n",
    "| Code                             | Purpose                                      |\n",
    "|----------------------------------|----------------------------------------------|\n",
    "| `for key, remote in wasabi.items()` | Loop through all required file types        |\n",
    "| `out = paths[key]`               | Local target path                           |\n",
    "| `ready = out.with_suffix('')`   | Expected filename after extraction          |\n",
    "| `if not ready.exists()`         | Download only if file doesn't exist         |\n",
    "\n",
    "\n",
    "\n"
   ]
  },
  {
   "cell_type": "code",
   "execution_count": 7,
   "id": "af0a8656",
   "metadata": {},
   "outputs": [],
   "source": [
    "tmin = 1836496300.0\n",
    "tmax = 1836496388.9730453\n",
    "dt_bin = 1.0"
   ]
  },
  {
   "cell_type": "markdown",
   "id": "8d2bb0f8-72cc-41c0-a2fd-f35d7ae665b0",
   "metadata": {},
   "source": [
    "## Define GRB Time Interval and Binning Size\n",
    "\n",
    "Sets the time range and bin width for analyzing the GRB event.\n",
    "\n",
    "| Variable   | Description                                            |\n",
    "|------------|--------------------------------------------------------|\n",
    "| `tmin`     | GRB start time in MET seconds                          |\n",
    "| `tmax`     | GRB end time in MET seconds                            |\n",
    "| `dt_bin`   | Time bin width in seconds (1-second resolution)        |\n",
    "\n",
    "\n",
    "\n"
   ]
  },
  {
   "cell_type": "code",
   "execution_count": 18,
   "id": "cb113e38",
   "metadata": {},
   "outputs": [
    {
     "name": "stdout",
     "output_type": "stream",
     "text": [
      "✅ Written: /data01/grb/inputs.yaml\n"
     ]
    }
   ],
   "source": [
    "yaml_path = data_folder / \"inputs.yaml\"\n",
    "src_fits = paths[\"source\"].with_suffix('')\n",
    "rsp_h5 = data_folder / \"ResponseContinuum.o3.e100_10000.b10log.s10396905069491.m2284.filtered.nonsparse.binnedimaging.imagingresponse_nside8.area.good_chunks.h5\"\n",
    "\n",
    "with FullDetectorResponse.open(rsp_h5) as R:\n",
    "    inputs = {\n",
    "        \"data_file\": str(src_fits),\n",
    "        \"ori_file\": \"NA\",\n",
    "        \"unbinned_output\": \"fits\",\n",
    "        \"time_bins\": dt_bin,\n",
    "        \"energy_bins\": [float(e) for e in R.axes[\"Em\"].edges.value],\n",
    "        \"phi_pix_size\": 6,\n",
    "        \"nside\": 8,\n",
    "        \"scheme\": \"ring\",\n",
    "        \"tmin\": float(tmin),\n",
    "        \"tmax\": float(tmax)\n",
    "    }\n",
    "\n",
    "with open(yaml_path, \"w\") as f:\n",
    "    yaml.safe_dump(inputs, f, sort_keys=False)\n",
    "    print(f\"✅ Written: {yaml_path}\")"
   ]
  },
  {
   "cell_type": "markdown",
   "id": "544af505-c652-4e77-996c-f8d4fbd7aa59",
   "metadata": {},
   "source": [
    "## Write YAML Configuration for GRB Binning\n",
    "\n",
    "Creates an `inputs.yaml` file that defines how the GRB FITS file will be binned into Compton Data Space (CDS).\n",
    "\n",
    "### Key Config Parameters:\n",
    "\n",
    "| Key              | Description                                       |\n",
    "|------------------|---------------------------------------------------|\n",
    "| `data_file`      | Path to the unbinned GRB FITS file                |\n",
    "| `ori_file`       | Set to `\"NA\"` (not used)                          |\n",
    "| `time_bins`      | Time bin size in seconds (`dt_bin`)               |\n",
    "| `energy_bins`    | Extracted from response file                      |\n",
    "| `phi_pix_size`   | Angular bin size for scatter angle Φ              |\n",
    "| `nside`          | HEALPix resolution (e.g., 8 = 768 pixels)         |\n",
    "| `scheme`         | HEALPix ordering scheme (`\"ring\"`)               |\n",
    "| `tmin`, `tmax`   | GRB observation time window                       |\n",
    "\n",
    "The generated YAML will be used in the binning step with `BinnedData`.\n"
   ]
  },
  {
   "cell_type": "code",
   "execution_count": 9,
   "id": "fb037d59",
   "metadata": {},
   "outputs": [
    {
     "name": "stdout",
     "output_type": "stream",
     "text": [
      "✅ Binning complete. Output written: GRB_bn081207680_binned_O3.hdf5\n"
     ]
    }
   ],
   "source": [
    "analysis = BinnedData(yaml_path)\n",
    "\n",
    "analysis.get_binned_data(\n",
    "    unbinned_data=str(src_fits),\n",
    "    output_name=\"GRB_bn081207680_binned_O3\",\n",
    "    psichi_binning=\"local\"\n",
    ")\n",
    "print(\"✅ Binning complete. Output written: GRB_bn081207680_binned_O3.hdf5\")"
   ]
  },
  {
   "cell_type": "markdown",
   "id": "38fb9144-7dda-4cc3-acb5-247ec1e4fe20",
   "metadata": {},
   "source": [
    "## Binning GRB Data into Compton Data Space (CDS)\n",
    "\n",
    "This step bins the unbinned GRB photon data into a 5D histogram for CDS analysis using `cosipy`.\n",
    "\n",
    "### Key Steps:\n",
    "| Code                          | Purpose                                        |\n",
    "|-------------------------------|------------------------------------------------|\n",
    "| `BinnedData(yaml_path)`       | Loads binning config from `inputs.yaml`        |\n",
    "| `get_binned_data(...)`        | Executes binning and saves output to HDF5      |\n",
    "\n",
    "### Main Parameters:\n",
    "| Parameter         | Description                                              |\n",
    "|-------------------|----------------------------------------------------------|\n",
    "| `unbinned_data`   | Path to filtered GRB FITS file                           |\n",
    "| `output_name`     | Output HDF5 file name prefix                             |\n",
    "| `psichi_binning`  | Sky binning system (`\"local\"` = spacecraft-centric)      |\n",
    "\n"
   ]
  },
  {
   "cell_type": "code",
   "execution_count": null,
   "id": "0b9e1a20-6422-4796-8548-527c7e114eb7",
   "metadata": {},
   "outputs": [],
   "source": [
    "from cosipy import BinnedData\n",
    "\n",
    "# Paths\n",
    "input_yaml = \"/data01/grb/inputs.yaml\"\n",
    "unbinned_fits = \"/data01/grb/GRB_bn081207680_3months_unbinned_data_filtered_with_SAAcut.fits\"\n",
    "output_name = \"/data01/grb/GRB_bn081207680_binned_O3\"  # full path output\n",
    "\n",
    "# Run binning\n",
    "analysis = BinnedData(input_yaml)\n",
    "\n",
    "analysis.get_binned_data(\n",
    "    unbinned_data=unbinned_fits,\n",
    "    output_name=output_name,  # full path!\n",
    "    psichi_binning=\"local\"\n",
    ")\n",
    "\n",
    "print(f\"✅ Binning complete. Output written: {output_name}.hdf5\")"
   ]
  },
  {
   "cell_type": "markdown",
   "id": "e1b3e8e7-d491-4a1c-815b-d2b37a74a368",
   "metadata": {},
   "source": [
    "## Run GRB Binning\n",
    "\n",
    "This block uses the `BinnedData` class to bin the GRB photon events based on the parameters in `inputs.yaml`.\n",
    "\n",
    "- `input_yaml`: Path to the YAML configuration file.\n",
    "- `unbinned_fits`: Input FITS file containing GRB event data.\n",
    "- `output_name`: Full path for the output HDF5 binned dataset.\n",
    "- `psichi_binning=\"local\"`: Performs sky binning in the spacecraft (local) frame.\n",
    "\n",
    "The result is saved as `GRB_bn081207680_binned_O3.hdf5`.\n",
    "\n"
   ]
  },
  {
   "cell_type": "code",
   "execution_count": null,
   "id": "b1964aba-df59-46ce-a4c5-a74148ae55b6",
   "metadata": {},
   "outputs": [],
   "source": [
    "from cosipy import BinnedData\n",
    "import os\n",
    "\n",
    "analysis = BinnedData(\"input_bg.yaml\")\n",
    "\n",
    "analysis.get_binned_data(\n",
    "    unbinned_data=\"/data01/grb/Total_BG_with_SAAcomponent_3months_unbinned_data_filtered_with_SAAcut.fits\",\n",
    "    output_name=\"/data01/grb/Total_BG_binned_O3\",\n",
    "    psichi_binning=\"local\",\n",
    "    event_range=[0, 100000]  #If you want to download the full background then please remove this line\n",
    ")\n",
    "\n",
    "print(\"background binned successfully\")\n",
    "# print(\"Output saved to:\", os.getcwd())\n"
   ]
  },
  {
   "cell_type": "markdown",
   "id": "bb98f903-8b56-4a24-8172-a2e62387ad8c",
   "metadata": {},
   "source": [
    "## Run Background Binning\n",
    "\n",
    "This block bins the background photon events using a separate configuration file (`input_bg.yaml`).\n",
    "\n",
    "- `unbinned_data`: Path to the SAA-filtered background FITS file.\n",
    "- `output_name`: Full path for the output HDF5 file.\n",
    "- `psichi_binning=\"local\"`: Bins data in the spacecraft-centric frame.\n",
    "- `event_range=[0, 100000]`: Optional limit on number of events for faster processing (remove to use all events).\n",
    "\n",
    "The result is saved as `Total_BG_binned_O3.hdf5`.\n"
   ]
  },
  {
   "cell_type": "code",
   "execution_count": null,
   "id": "862083ad-bfa3-4def-9c9c-1fa33612f472",
   "metadata": {},
   "outputs": [],
   "source": []
  },
  {
   "cell_type": "code",
   "execution_count": null,
   "id": "613b3698-3993-4a5e-a5ec-cca90eae385c",
   "metadata": {},
   "outputs": [],
   "source": []
  }
 ],
 "metadata": {
  "kernelspec": {
   "display_name": "Python 3 (ipykernel)",
   "language": "python",
   "name": "python3"
  },
  "language_info": {
   "codemirror_mode": {
    "name": "ipython",
    "version": 3
   },
   "file_extension": ".py",
   "mimetype": "text/x-python",
   "name": "python",
   "nbconvert_exporter": "python",
   "pygments_lexer": "ipython3",
   "version": "3.10.18"
  }
 },
 "nbformat": 4,
 "nbformat_minor": 5
}
